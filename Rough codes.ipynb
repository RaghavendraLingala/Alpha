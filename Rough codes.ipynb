{
 "cells": [
  {
   "cell_type": "code",
   "execution_count": 1,
   "id": "e55549af-3768-470c-a9eb-134facc8ba55",
   "metadata": {},
   "outputs": [
    {
     "name": "stdout",
     "output_type": "stream",
     "text": [
      "Raghavendra Starck is gonna create his own jarvis\n"
     ]
    }
   ],
   "source": [
    "print(\"Raghavendra Starck is gonna create his own jarvis\")"
   ]
  },
  {
   "cell_type": "code",
   "execution_count": 13,
   "id": "9a74b22b-6559-4c44-b013-529373f208a1",
   "metadata": {},
   "outputs": [
    {
     "name": "stdin",
     "output_type": "stream",
     "text": [
      "Guess some number:  7\n"
     ]
    },
    {
     "name": "stdout",
     "output_type": "stream",
     "text": [
      "Raghavendra is gonna create his own jarvis\n"
     ]
    }
   ],
   "source": [
    "x=int(input(\"Guess some number: \"))\n",
    "if x >= 0:\n",
    " print (\"Raghavendra is gonna create his own jarvis\");\n"
   ]
  },
  {
   "cell_type": "code",
   "execution_count": 19,
   "id": "3a353863-29d6-4f63-8927-835c16fd685e",
   "metadata": {},
   "outputs": [
    {
     "name": "stdin",
     "output_type": "stream",
     "text": [
      "YES or NO  yes\n"
     ]
    },
    {
     "name": "stdout",
     "output_type": "stream",
     "text": [
      "Yes,Raghavendra is gonna create his own jarvis\n"
     ]
    }
   ],
   "source": [
    "x=str(input(\"YES or NO \"))\n",
    "if x==\"YES\":\n",
    " print (\"Yes,Raghavendra is gonna create his own jarvis\");\n",
    "if x== \"yes\":\n",
    "    print (\"Yes,Raghavendra is gonna create his own jarvis\");\n",
    "else:\n",
    "    print(\"No,Raghavendra is Creating his own jarvis\");\n"
   ]
  },
  {
   "cell_type": "code",
   "execution_count": 26,
   "id": "12009cbb-32af-4e70-a43d-6febc5f144a7",
   "metadata": {},
   "outputs": [
    {
     "name": "stdin",
     "output_type": "stream",
     "text": [
      "YES or NO k\\\n"
     ]
    },
    {
     "name": "stdout",
     "output_type": "stream",
     "text": [
      "No,Raghavendra is Creating his own jarvis\n"
     ]
    }
   ],
   "source": [
    "x=str(input(\"YES or NO\")).strip().lower()\n",
    "if x==\"yes\":\n",
    " print (\"Yes,Raghavendra is gonna create his own jarvis\")\n",
    "else:\n",
    "    print(\"No,Raghavendra is Creating his own jarvis\")"
   ]
  },
  {
   "cell_type": "code",
   "execution_count": null,
   "id": "72374441-4dd5-42e7-9501-7cd19d3396f2",
   "metadata": {},
   "outputs": [],
   "source": []
  }
 ],
 "metadata": {
  "kernelspec": {
   "display_name": "Python 3 (ipykernel)",
   "language": "python",
   "name": "python3"
  },
  "language_info": {
   "codemirror_mode": {
    "name": "ipython",
    "version": 3
   },
   "file_extension": ".py",
   "mimetype": "text/x-python",
   "name": "python",
   "nbconvert_exporter": "python",
   "pygments_lexer": "ipython3",
   "version": "3.13.1"
  }
 },
 "nbformat": 4,
 "nbformat_minor": 5
}
